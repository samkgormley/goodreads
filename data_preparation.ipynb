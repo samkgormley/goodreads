{
 "cells": [
  {
   "cell_type": "markdown",
   "id": "municipal-denver",
   "metadata": {},
   "source": [
    "# Libraries, Settings and Imports"
   ]
  },
  {
   "cell_type": "code",
   "execution_count": 1,
   "id": "determined-sally",
   "metadata": {},
   "outputs": [],
   "source": [
    "import pandas as pd\n",
    "import numpy as np\n",
    "import re"
   ]
  },
  {
   "cell_type": "code",
   "execution_count": 2,
   "id": "worst-lesson",
   "metadata": {},
   "outputs": [],
   "source": [
    "# account for jupyter autocomplete bug\n",
    "%config Completer.use_jedi = False"
   ]
  },
  {
   "cell_type": "code",
   "execution_count": 3,
   "id": "modern-hamburg",
   "metadata": {},
   "outputs": [],
   "source": [
    "# read in the data\n",
    "df = pd.read_csv('data/goodreads_library_export.csv')"
   ]
  },
  {
   "cell_type": "markdown",
   "id": "brazilian-donna",
   "metadata": {},
   "source": [
    "# Drop Non-Useful Data"
   ]
  },
  {
   "cell_type": "code",
   "execution_count": 4,
   "id": "normal-valve",
   "metadata": {
    "scrolled": true
   },
   "outputs": [],
   "source": [
    "# select only the books which have been read\n",
    "df = df[df['Exclusive Shelf'] == 'read']\n",
    "# designate the columns which are not useful\n",
    "unused_cols = [\n",
    "    'Book Id', 'Author l-f', 'Additional Authors', 'ISBN', 'ISBN13', 'Bookshelves', 'Bookshelves with positions', 'My Review', 'Spoiler', 'Private Notes',\n",
    "    'Recommended For', 'Recommended By', 'Owned Copies', 'Original Purchase Date', 'Original Purchase Location', 'Condition', 'Condition Description', 'BCID',\n",
    "    'Year Published', 'Exclusive Shelf', 'Read Count', 'Date Added']\n",
    "# drop the unused columns\n",
    "df.drop(unused_cols, axis=1, inplace=True)"
   ]
  },
  {
   "cell_type": "markdown",
   "id": "parallel-memorial",
   "metadata": {},
   "source": [
    "# Data Formatting"
   ]
  },
  {
   "cell_type": "code",
   "execution_count": 5,
   "id": "marine-tolerance",
   "metadata": {},
   "outputs": [],
   "source": [
    "# ensure all audiobooks have null pages\n",
    "df.loc[(df['Binding'] == 'Audible Audio') | (df['Binding'] == 'Audiobook'), 'Number of Pages'] = np.nan\n",
    "# designate any zero ratings as null values\n",
    "df['My Rating'].replace({0:np.nan}, inplace=True)\n",
    "# convert the date read column to datetime, ignore nulls\n",
    "df[\"Date Read\"] = pd.to_datetime(df[\"Date Read\"], format='%Y/%m/%d',errors='ignore')\n",
    "# convert the original publication year column to datetime\n",
    "df[\"Original Publication Year\"] = pd.to_datetime(df[\"Original Publication Year\"], format='%Y', errors='ignore')"
   ]
  },
  {
   "cell_type": "markdown",
   "id": "major-chase",
   "metadata": {},
   "source": [
    "# Feature Extraction"
   ]
  },
  {
   "cell_type": "code",
   "execution_count": 6,
   "id": "regional-amino",
   "metadata": {},
   "outputs": [],
   "source": [
    "def book_format_generator(binding):\n",
    "    \"\"\"\n",
    "    This book returns the appropriate book format for its binding type.\n",
    "    \"\"\"\n",
    "    \n",
    "    if binding in ['Paperback', 'Hardcover']:\n",
    "        return 'Physical'\n",
    "    elif binding in ['Kindle Edition']:\n",
    "        return 'Digital'\n",
    "    elif binding in ['Audible Audio', 'Audiobook']:\n",
    "        return 'Audiobook'"
   ]
  },
  {
   "cell_type": "code",
   "execution_count": 7,
   "id": "renewable-brave",
   "metadata": {},
   "outputs": [],
   "source": [
    "def main_title_extractor(title):\n",
    "    \"\"\"\n",
    "    This function extracts the main title from the full Goodreads title.\n",
    "    \"\"\"\n",
    "    \n",
    "    if '(' and ':' in title:\n",
    "        return title.split(' (')[0].split(':')[0]\n",
    "    elif '(' in title:\n",
    "        return title.split(' (')[0]\n",
    "    elif ':' in title:\n",
    "        return title.split(':')[0]\n",
    "    else:\n",
    "        return title"
   ]
  },
  {
   "cell_type": "code",
   "execution_count": 8,
   "id": "valid-intent",
   "metadata": {},
   "outputs": [],
   "source": [
    "def subtitle_extractor(title):\n",
    "    \"\"\"\n",
    "    This title extracts the subtitle, if available, from the full Goodreads title.\n",
    "    \"\"\"\n",
    "    \n",
    "    if '(' and ':' in title:\n",
    "        return title.split(' (')[0].split(':')[1]\n",
    "    elif ':' in title:\n",
    "        return title.split(':')[1]\n",
    "    else:\n",
    "        return np.nan"
   ]
  },
  {
   "cell_type": "code",
   "execution_count": 9,
   "id": "psychological-maldives",
   "metadata": {},
   "outputs": [],
   "source": [
    "def series_extractor(title):\n",
    "    \"\"\"\n",
    "    This title extracts the series which the title is a member of, if available, from the full Goodreads title.\n",
    "    \"\"\"\n",
    "    \n",
    "    if '#' in title:\n",
    "        return re.search(r'\\((.*?)\\)', title).group(1).split(', #')[0]\n",
    "    else:\n",
    "        return np.nan"
   ]
  },
  {
   "cell_type": "code",
   "execution_count": 10,
   "id": "capital-utilization",
   "metadata": {},
   "outputs": [],
   "source": [
    "# fix binding of wrongly marked books\n",
    "df.loc[(df['Binding'] == 'ebook') | (df['Binding'] == 'Mass Market Paperback'), 'Binding'] = 'Paperback'\n",
    "# aggregate book formats together\n",
    "df['Format'] = df['Binding'].apply(lambda x: book_format_generator(x))"
   ]
  },
  {
   "cell_type": "code",
   "execution_count": 11,
   "id": "light-remove",
   "metadata": {},
   "outputs": [],
   "source": [
    "# extract the main title\n",
    "df['Main Title'] = df['Title'].apply(lambda x: main_title_extractor(x))\n",
    "# extract the subtitle\n",
    "df['Subtitle'] = df['Title'].apply(lambda x: subtitle_extractor(x))\n",
    "# extract the book's series\n",
    "df['Series'] = df['Title'].apply(lambda x: series_extractor(x))"
   ]
  },
  {
   "cell_type": "markdown",
   "id": "settled-customs",
   "metadata": {},
   "source": [
    "# Data Cleaning"
   ]
  },
  {
   "cell_type": "code",
   "execution_count": 12,
   "id": "modified-geometry",
   "metadata": {},
   "outputs": [],
   "source": [
    "def publisher_cleaner(publisher):\n",
    "    \"\"\"\n",
    "    This function helps to clean up some duplicate names of publishers.\n",
    "    \"\"\"\n",
    "    if pd.notna(publisher):\n",
    "        if any(i in publisher for i in ['Penguin', 'Portfolio']):\n",
    "            return 'Penguin'\n",
    "        elif 'Puffin' in publisher:\n",
    "            return 'Puffin'\n",
    "        elif 'Scholastic' in publisher:\n",
    "            return 'Scholastic'\n",
    "        elif 'Random House' in publisher:\n",
    "            return 'Random House'\n",
    "        elif any(i in publisher for i in ['Harper', 'Collins', 'Voyager']):\n",
    "            return 'HarperCollins'\n",
    "        elif 'Egmont' in publisher:\n",
    "            return 'Egmont'\n",
    "        elif 'Bloomsbury' in publisher:\n",
    "            return 'Bloomsbury'\n",
    "        elif 'Walker' in publisher:\n",
    "            return 'Walker'\n",
    "        elif 'Simon & Schuster' in publisher:\n",
    "            return 'Simon & Schuster'\n",
    "        elif 'Vintage' in publisher:\n",
    "            return 'Vintage'\n",
    "        else:\n",
    "            return publisher"
   ]
  },
  {
   "cell_type": "code",
   "execution_count": 13,
   "id": "dietary-venezuela",
   "metadata": {},
   "outputs": [],
   "source": [
    "# clean up the publisher's names\n",
    "df['Publisher'] = df['Publisher'].apply(lambda x: publisher_cleaner(x))"
   ]
  },
  {
   "cell_type": "code",
   "execution_count": 14,
   "id": "documentary-instrumentation",
   "metadata": {},
   "outputs": [],
   "source": [
    "# perform any manual edits for data which was spotted to be incorrect\n",
    "df.loc[df['Main Title'] == 'Evil Star', 'Original Publication Year'] = 2006\n",
    "df.loc[df['Main Title'] == 'Skeleton Key', 'Series'] = 'Alex Rider'\n",
    "df.loc[df['Series'] == 'Power of Five', 'Series'] = 'The Power of Five'\n",
    "df.loc[df['Author'] == 'J.R.R. Tolkien', 'Series'] = 'Middle Earth'\n",
    "df.loc[df['Subtitle'] == ' Steel and Snow', 'Main Title'] = 'A Storm of Swords 1'\n",
    "df.loc[df['Subtitle'] == ' Blood and Gold', 'Main Title'] = 'A Storm of Swords 2'\n",
    "df.loc[df['Subtitle'] == ' Dreams and Dust', 'Main Title'] = 'A Dance with Dragons 1'\n",
    "df.loc[df['Author'] == 'Michael   Lewis', 'Author'] = 'Michael Lewis'\n",
    "df.loc[df['Main Title'] == 'Silicon Docks', 'Binding'] = 'Paperback'\n",
    "df.loc[df['Main Title'] == 'Silicon Docks', 'Format'] = 'Physical'\n",
    "df.loc[df['Main Title'] == 'Artemis Fowl and the Lost Colony', 'Main Title'] = 'The Lost Colony'\n",
    "df.loc[df['Main Title'] == 'Artemis Fowl and the Time Paradox', 'Main Title'] = 'The Time Paradox'\n",
    "df.loc[df['Main Title'] == \"Harry Potter and the Philosopher's Stone\", 'Series'] = 'Harry Potter'\n",
    "df.loc[df['Main Title'] == 'Northern Lights', 'Series'] = 'His Dark Materials'\n",
    "df.loc[df['Main Title'] == \"The Amber Spyglass\", 'Series'] = 'His Dark Materials'"
   ]
  },
  {
   "cell_type": "code",
   "execution_count": 15,
   "id": "elementary-passing",
   "metadata": {},
   "outputs": [],
   "source": [
    "# export amended file to a new csv\n",
    "df.to_csv('data/goodreads_library_export_cleaned.csv', index=False)"
   ]
  }
 ],
 "metadata": {
  "kernelspec": {
   "display_name": "Python 3",
   "language": "python",
   "name": "python3"
  },
  "language_info": {
   "codemirror_mode": {
    "name": "ipython",
    "version": 3
   },
   "file_extension": ".py",
   "mimetype": "text/x-python",
   "name": "python",
   "nbconvert_exporter": "python",
   "pygments_lexer": "ipython3",
   "version": "3.7.10"
  },
  "toc": {
   "base_numbering": 1,
   "nav_menu": {},
   "number_sections": true,
   "sideBar": false,
   "skip_h1_title": false,
   "title_cell": "Table of Contents",
   "title_sidebar": "Contents",
   "toc_cell": false,
   "toc_position": {},
   "toc_section_display": true,
   "toc_window_display": false
  }
 },
 "nbformat": 4,
 "nbformat_minor": 5
}
